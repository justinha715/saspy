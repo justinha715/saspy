{
 "cells": [
  {
   "cell_type": "markdown",
   "metadata": {},
   "source": [
    "# Everything is better with friends: Using SAS in Python applications with SASPy and open-source tools\n",
    "\n",
    "## Half-Day Tutorial &nbsp;&bullet;&nbsp;  SAS Global Forum 2020"
   ]
  },
  {
   "cell_type": "markdown",
   "metadata": {},
   "source": [
    "## Section 1. Python Code Conventions and Data Structures"
   ]
  },
  {
   "cell_type": "markdown",
   "metadata": {},
   "source": [
    "### Example 1.1. Meet the Python Environment\n",
    "\n",
    "<b><u>Instructions</u></b>: Click anywhere in the code cell immediately below, and run the cell using Shift-Enter. Then attempt the Exercises that follow, only looking at the explanatory notes for hints when needed."
   ]
  },
  {
   "cell_type": "code",
   "execution_count": null,
   "metadata": {},
   "outputs": [],
   "source": [
    "import warnings\n",
    "warnings.filterwarnings('ignore')\n",
    "\n",
    "import platform\n",
    "print(platform.sys.version)\n",
    "\n",
    "help('modules')"
   ]
  },
  {
   "cell_type": "markdown",
   "metadata": {},
   "source": [
    "**Line-by-Line Code Explanation**:\n",
    "\n",
    "* Lines 1-2: Load the `warnings` module, and use the `filterwarnings` method to suppress warnings globally. (This is needed because of warnings generated when Line 7 is executed in SAS University Edition.)\n",
    " \n",
    "* Lines 4-5: Load the `platform` module, and print Python and OS version information.\n",
    "\n",
    "* Line 7: Print all modules currently available to be loaded into the Python kernel.\n",
    "\n",
    "&nbsp;"
   ]
  },
  {
   "cell_type": "markdown",
   "metadata": {},
   "source": [
    "**Exercise 1.1.1**. True or False: Changing Line 1 to `IMPORT WARNINGS` would result in an execution error.\n",
    "\n",
    "&nbsp;\n",
    "\n",
    "&nbsp;"
   ]
  },
  {
   "cell_type": "markdown",
   "metadata": {},
   "source": [
    "**Exercise 1.1.2**. True or False: The example code should result in an execution error because there are no terminating semicolons.\n",
    "\n",
    "&nbsp;\n",
    "\n",
    "&nbsp;"
   ]
  },
  {
   "cell_type": "markdown",
   "metadata": {},
   "source": [
    "**Notes about Example 1.1**:\n",
    "1. To increase performance, only a small number of modules in Python's standard library are available to use directly by default, so the `warnings` and `platform` modules need to be explicitly loaded before use. Python has a large standard library because of its \"batteries included\" philosophy.\n",
    "2. Numerous third-party modules are also actively developed and made freely available through sites like https://github.com/ and https://pypi.org/. Two of the third-party modules needed for this tutorial are pandas, which we'll use for DataFrame objects below, and saspy, which allows Python scripts to connect to a SAS kernel for executing SAS code. Both of these modules come pre-installed with SAS University Edition.\n",
    "3. This example illustrates four ways Python syntax differs from SAS:\n",
    "  * Unlike SAS, capitalization matters in Python. Changing Line 4 to `IMPORT PLATFORM` would produce an error.\n",
    "  * Unlike SAS, semicolons are optional in Python, and they are typically only used to separate multiple statements placed on the same line. E.g., Lines 4-5 could be combined into `import platform; print(platform.sys.version)`\n",
    "  * Unlike SAS, dot-notation has a consistent meaning in Python and can be used to reference objects nested inside each other at any depth. E.g., the `platform` module object invokes the sub-module object `sys` nested inside of it, and `sys` invokes the object `version` nested inside of it. (Think Russian nesting dolls or turduckens.)\n",
    "  * Unlike SAS, single and double quotes always have identical behavior in Python. E.g., `help('modules')` would produce exactly the same results as `help(\"modules\")`.\n",
    "4. If an error is displayed, an incompatible kernel has been chosen. This Notebook was developed using the Python 3.5 kernel provided with SAS University Edition as of January 2020.\n",
    "\n",
    "&nbsp;"
   ]
  },
  {
   "cell_type": "markdown",
   "metadata": {},
   "source": [
    "### Example 1.2. Hello, Data!\n",
    "\n",
    "<b><u>Instructions</u></b>: Click anywhere in the code cell immediately below, and run the cell using Shift-Enter. Then attempt the Exercises that follow, only looking at the explanatory notes for hints when needed."
   ]
  },
  {
   "cell_type": "code",
   "execution_count": null,
   "metadata": {},
   "outputs": [],
   "source": [
    "hello_world_str = 'Hello, Jupyter!'\n",
    "print(hello_world_str)\n",
    "print()\n",
    "if hello_world_str == 'Hello, Jupyter!':\n",
    "    print(type(hello_world_str))\n",
    "else:\n",
    "    print(\"Error: The string doesn't have the expected value!\")"
   ]
  },
  {
   "cell_type": "markdown",
   "metadata": {},
   "source": [
    "**Line-by-Line Code Explanation**:\n",
    "\n",
    "* Lines 1-3: Create a string object (`str` for short) named `hello_world_str`, and print it's value, followed by a blank line.\n",
    "\n",
    "* Lines 4-7: Check to see if `hello_world_str` has the expected value. If so, print it's type. Otherwise, print an error message.\n",
    "\n",
    "&nbsp;"
   ]
  },
  {
   "cell_type": "markdown",
   "metadata": {},
   "source": [
    "**Exercise 1.2.1**. Which of the following changes to the above example would result in an error? (pick all that apply):\n",
    "\n",
    "* [ ] Removing an equal sign (`=`) in the expression `if hello_world_str == 'Hello, Jupyter!'`\n",
    "* [ ] Removing the statement: `print()`\n",
    "* [ ] Unindenting `print(type(hello_world_str))`\n",
    "\n",
    "&nbsp;\n",
    "\n",
    "&nbsp;"
   ]
  },
  {
   "cell_type": "markdown",
   "metadata": {},
   "source": [
    "**Exercise 1.2.2**. Write several lines of Python code to produce the following output:\n",
    "\n",
    "```\n",
    "42\n",
    "\n",
    "<class 'int'>\n",
    "```"
   ]
  },
  {
   "cell_type": "code",
   "execution_count": null,
   "metadata": {},
   "outputs": [],
   "source": [
    "\n",
    "\n",
    "\n",
    "\n",
    "\n",
    "\n",
    "\n",
    "\n"
   ]
  },
  {
   "cell_type": "markdown",
   "metadata": {},
   "source": [
    "&nbsp;\n",
    "\n",
    "**Notes about Example 1.2**:\n",
    "1. This example illustrates three more ways Python differs from SAS:\n",
    "  * Unlike SAS, variables are dynamically typed in Python. After Line 1 has been used to create `hello_world_str`, it can be assigned a new value later with a completely different type. E.g., we could later use `hello_world_str = 42` to change `type(hello_world_str)` to  `<class 'int'>`. \n",
    "  * Unlike SAS, single-equals (`=`) only ever means assignment, and double-equals (`==`) only ever tests for equality, in Python. E.g., changing Line 4 to `if hello_world_str = 'Hello, Jupyter!'` would produce an error.\n",
    "  * Unlike SAS, indentation is significant and used to determine scope in Python. E.g., unindenting Line 5 would produce an error since the `if` statement would no longer have a body.\n",
    "\n",
    "&nbsp;"
   ]
  },
  {
   "cell_type": "markdown",
   "metadata": {},
   "source": [
    "### Example 1.3. Python Lists and Indexes\n",
    "\n",
    "<b><u>Instructions</u></b>: Click anywhere in the code cell immediately below, and run the cell using Shift-Enter. Then attempt the Exercises that follow, only looking at the explanatory notes for hints when needed."
   ]
  },
  {
   "cell_type": "code",
   "execution_count": null,
   "metadata": {},
   "outputs": [],
   "source": [
    "hello_world_list = ['Hello', 'list']\n",
    "print(hello_world_list)\n",
    "print()\n",
    "print(type(hello_world_list))"
   ]
  },
  {
   "cell_type": "markdown",
   "metadata": {},
   "source": [
    "**Line-by-Line Code Explanation**:\n",
    "\n",
    "* Line 1: Create a list object named `hello_world_list`, which contains two strings.\n",
    "\n",
    "* Lines 2-4: Print the contents of `hello_world_list`, followed by a blank line and its type.\n",
    "\n",
    "&nbsp;"
   ]
  },
  {
   "cell_type": "markdown",
   "metadata": {},
   "source": [
    "**Exercise 1.3.1**. Would the Python statement `print(hello_world_list[1])` display the value `'Hello'` or `'World'`?\n",
    "\n",
    "&nbsp;\n",
    "\n",
    "&nbsp;"
   ]
  },
  {
   "cell_type": "markdown",
   "metadata": {},
   "source": [
    "**Exercise 1.3.2**. True or False: A Python list may only contain values of the same type.\n",
    "\n",
    "&nbsp;\n",
    "\n",
    "&nbsp;"
   ]
  },
  {
   "cell_type": "markdown",
   "metadata": {},
   "source": [
    "**Notes about Example 1.3**.\n",
    "1. Values in lists are always kept in insertion order, meaning the order they appear in the list's definition, and they can be individually accessed using numerical indexes within bracket notation:\n",
    "  * `hello_world_list[0]` returns `'Hello'`\n",
    "  * `hello_world_list[1]` returns `'list'`.\n",
    "\n",
    "2. The left-most element of a list is always at index `0`. Unlike SAS, customized indexing is only available for more sophisticated data structures in Python (e.g., a dictionary, as in Example 1.4 below).\n",
    "\n",
    "3. Lists are the most fundamental Python data structure and are related to SAS data-step arrays. However, unlike a SAS data-step array, a Python list object may contain values of different types (such as `str` or `int`). However, processing the values of a list without checking their types may cause errors if it contains unexpected values.\n",
    "\n",
    "&nbsp;"
   ]
  },
  {
   "cell_type": "markdown",
   "metadata": {},
   "source": [
    "### Example 1.4. Python Dictionaries\n",
    "\n",
    "<b><u>Instructions</u></b>: Click anywhere in the code cell immediately below, and run the cell using Shift-Enter. Then attempt the Exercises that follow, only looking at the explanatory notes for hints when needed."
   ]
  },
  {
   "cell_type": "code",
   "execution_count": null,
   "metadata": {},
   "outputs": [],
   "source": [
    "hello_world_dict = {\n",
    "        'salutation'      : ['Hello'       , 'dict'],\n",
    "        'valediction'     : ['Goodbye'     , 'list'],\n",
    "        'part of speech'  : ['interjection', 'noun'],\n",
    "}\n",
    "print(hello_world_dict)\n",
    "print()\n",
    "print(type(hello_world_dict))"
   ]
  },
  {
   "cell_type": "markdown",
   "metadata": {},
   "source": [
    "**Line-by-Line Code Explanation**:\n",
    "\n",
    "* Line 1-5 : Create a dictionary object (`dict` for short) named `hello_world_dict`, which contains three key-value pairs, where each key is a string and each value is a list of two strings.\n",
    "\n",
    "* Lines 6-8: Print the contents of `hello_world_dict`, followed by a blank line and its type.\n",
    "\n",
    "&nbsp;"
   ]
  },
  {
   "cell_type": "markdown",
   "metadata": {},
   "source": [
    "**Exercise 1.4.1**. What would be displayed by executing the statement `print(hello_world_dict['salutation'])`?\n",
    "\n",
    "&nbsp;\n",
    "\n",
    "&nbsp;"
   ]
  },
  {
   "cell_type": "markdown",
   "metadata": {},
   "source": [
    "**Exercise 1.4.2**. Write a single line of Python code to print the initial element of the list associated with the key `valediction`."
   ]
  },
  {
   "cell_type": "code",
   "execution_count": null,
   "metadata": {},
   "outputs": [],
   "source": [
    "\n",
    "\n",
    "\n",
    "\n"
   ]
  },
  {
   "cell_type": "markdown",
   "metadata": {},
   "source": [
    "&nbsp;\n",
    "\n",
    "**Notes about Example 1.4**:\n",
    "\n",
    "1. Dictionaries are another fundamental Python data structure, which map keys (appearing before the colons in Lines 2-4) to values (appearing after the colons in Lines 2-4). The value associated with each key can be accessed using bracket notation:\n",
    "  * hello_world_dict['salutation'] returns ['Hello', 'dict']\n",
    "  * hello_world_dict['valediction'] returns ['Goodbye', 'list']\n",
    "  * hello_world_dict['part of speech'] returns ['interjection', 'noun']\n",
    "\n",
    "\n",
    "2. Whenever indexable data structures are nested in Python, indexing methods can be combined. E.g., `hello_world_dict['salutation'][0] == ['Hello', 'dict'][0] == 'Hello'`.\n",
    " \n",
    "3. Dictionaries are more generally called _associative arrays_ or _maps_ and are related to SAS formats and data-step hash tables.\n",
    "\n",
    "4. In Python 3.5, the print order of key-value pairs may not match insertion order, meaning the order key-value pairs are listed when the dictionary is created. As of Python 3.7 (released in June 2018), insertion order is preserved.\n",
    "  \n",
    "&nbsp;"
   ]
  },
  {
   "cell_type": "markdown",
   "metadata": {},
   "source": [
    "### Example 1.5. Introduction to Data Frames\n",
    "\n",
    "<b><u>Instructions</u></b>: Click anywhere in the code cell immediately below, and run the cell using Shift-Enter. Then attempt the Exercises that follow, only looking at the explanatory notes for hints when needed."
   ]
  },
  {
   "cell_type": "code",
   "execution_count": null,
   "metadata": {},
   "outputs": [],
   "source": [
    "from pandas import DataFrame\n",
    "hello_world_df = DataFrame(\n",
    "    {\n",
    "        'salutation'      : ['Hello'      , 'DataFrame'],\n",
    "        'valediction'     : ['Goodbye'    , 'dict'],\n",
    "        'part of speech'  : ['exclamation', 'noun'],\n",
    "    }\n",
    ")\n",
    "print(hello_world_df)\n",
    "print()\n",
    "print(hello_world_df.shape)\n",
    "print()\n",
    "print(hello_world_df.info())"
   ]
  },
  {
   "cell_type": "markdown",
   "metadata": {},
   "source": [
    "**Line-by-Line Code Explanation**:\n",
    "\n",
    "* Line 1: Load the definition of a `DataFrame` object from the `pandas` module. (Think of a DataFrame as a rectangular array of values, with all values in a column having the same type.)\n",
    "\n",
    "* Lines 2-8: Create a DataFrame object (`df` for short) named `hello_world_df` with dimensions 2x3 (2 rows by 3 columns), with each key-value pair in the dictionary in Lines 3-7 becoming a column that is labelled by the key.\n",
    "\n",
    "* Lines 9-14: Print the contents of `hello_world_df`, following by a blank line, the number of rows and columns in it, another blank line, and some information about it.\n",
    "\n",
    "&nbsp;"
   ]
  },
  {
   "cell_type": "markdown",
   "metadata": {},
   "source": [
    "**Exercise 1.5.1**. Write a single line of Python code to print the column labelled by `salutation`."
   ]
  },
  {
   "cell_type": "code",
   "execution_count": null,
   "metadata": {},
   "outputs": [],
   "source": [
    "\n",
    "\n",
    "\n",
    "\n"
   ]
  },
  {
   "cell_type": "markdown",
   "metadata": {},
   "source": [
    "**Exercise 1.5.2**. Write a single line of Python code to print the final element of the column labeled by `valediction`."
   ]
  },
  {
   "cell_type": "code",
   "execution_count": null,
   "metadata": {},
   "outputs": [],
   "source": [
    "\n",
    "\n",
    "\n",
    "\n"
   ]
  },
  {
   "cell_type": "markdown",
   "metadata": {},
   "source": [
    "**Notes About Example 1.5**:\n",
    "\n",
    "1. The DataFrame object type is not built into Python, which is why we first have to import its definition from the pandas module.\n",
    "\n",
    "1. DataFrames can be indexed like dictionaries composed of lists. E.g., `hello_world_df['salutation'][0] == ['Hello', 'dict'][0] == 'Hello'`\n",
    "\n",
    "2. A DataFrame is a tabular data structure with rows and columns, similar to a SAS data set. However, while SAS datasets are typically accessed from disk and processed row-by-row, DataFrames are loaded into memory all at once. This means values in DataFrames can be randomly accessed, but it also means the size of DataFrames can't grow beyond available memory.\n",
    "\n",
    "3. The dimensions of the DataFrame are determined as follows:\n",
    "  * The keys `'salutation'`, `'valediction'`, and `'part of speech'` of the dictionary passed to the `DataFrame` constructor function become column labels.\n",
    "  * Because each key maps to a list of length two, each column will be two elements tall (with an error occurring if the lists are not of non-uniform length).\n",
    "  \n",
    "  \n",
    "4.  The DataFrame constructor function can also accept many other object types, including another DataFrame."
   ]
  },
  {
   "cell_type": "code",
   "execution_count": null,
   "metadata": {},
   "outputs": [],
   "source": []
  }
 ],
 "metadata": {
  "kernelspec": {
   "display_name": "Python 3",
   "language": "python",
   "name": "python3"
  },
  "language_info": {
   "codemirror_mode": {
    "name": "ipython",
    "version": 3
   },
   "file_extension": ".py",
   "mimetype": "text/x-python",
   "name": "python",
   "nbconvert_exporter": "python",
   "pygments_lexer": "ipython3",
   "version": "3.5.5"
  }
 },
 "nbformat": 4,
 "nbformat_minor": 2
}
