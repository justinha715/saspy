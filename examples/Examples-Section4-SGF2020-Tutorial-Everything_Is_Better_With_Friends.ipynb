{
 "cells": [
  {
   "cell_type": "markdown",
   "metadata": {},
   "source": [
    "# Everything is better with friends: Using SAS in Python applications with SASPy and open-source tools\n",
    "\n",
    "## Half-Day Tutorial &nbsp;&bullet;&nbsp;  SAS Global Forum 2020"
   ]
  },
  {
   "cell_type": "markdown",
   "metadata": {},
   "source": [
    "## Section 4. Staying D.R.Y."
   ]
  },
  {
   "cell_type": "markdown",
   "metadata": {},
   "source": [
    "### Example 4.1. Imitate the SAS Macro Processor\n",
    "\n",
    "<b><u>Instructions</u></b>: Click anywhere in the code cell immediately below, and run the cell using Shift-Enter. Then attempt the Exercises that follow, only looking at the explanatory notes for hints when needed."
   ]
  },
  {
   "cell_type": "code",
   "execution_count": null,
   "metadata": {},
   "outputs": [],
   "source": [
    "from saspy import SASsession\n",
    "sas = SASsession(results='TEXT')\n",
    "\n",
    "sas_code_fragment = 'proc means data=sashelp.%s; run;'\n",
    "for dsn in ['fish', 'class']:\n",
    "    sas_submit_return_value = sas.submit(\n",
    "        sas_code_fragment % dsn\n",
    "    )\n",
    "    print(sas_submit_return_value['LST'])"
   ]
  },
  {
   "cell_type": "markdown",
   "metadata": {},
   "source": [
    "**Line-by-Line Code Explanation:**\n",
    "\n",
    "* Lines 1-2: Import the `SASsession` object data type from the `saspy` module, and create a `SASsession` object named `sas` with results in TEXT format.\n",
    "\n",
    "* Line 4: Create a string object named `sas_code_fragment` with templating placeholder `%s`. (The `%s` portion will be replaced with other strings in subsequent uses of `sas_code_fragment`.)\n",
    "\n",
    "* Line 5: Initiate a for-loop over the two value in the list `['fish', 'class']`. (In other words, the body of the for-loop, meaning all subsequent lines that are indented, will be executed twice. The first time, the value of the index variable `dsn` will be `fish`, and the second time `dsn` will be `class`.)\n",
    "\n",
    "* Lines 6-9: Define the body of the for-loop to use the `submit` method on `sas_code_fragment` (but with the templating placeholder `%s` replaced by the current value of index variable `dsn`) and then to print the SAS output of the result.\n",
    "\n",
    "&nbsp;"
   ]
  },
  {
   "cell_type": "markdown",
   "metadata": {},
   "source": [
    "**Exercise 4.1.1**. Write lines of Python code to accomplish the following: Using the above example as a model, print out the results of applying the SAS CONTENTS procedure to the SAS datasets sashelp.steel and sashelp.tourism, and output the results."
   ]
  },
  {
   "cell_type": "code",
   "execution_count": null,
   "metadata": {},
   "outputs": [],
   "source": [
    "\n",
    "\n",
    "\n",
    "\n",
    "\n",
    "\n",
    "\n",
    "\n"
   ]
  },
  {
   "cell_type": "markdown",
   "metadata": {},
   "source": [
    "&nbsp;\n",
    "\n",
    "**Notes About Example 4.1**.\n",
    "1. The end result of this Example is to construct and submit the following SAS code to the SAS kernel:\n",
    "    ```\n",
    "    proc means data=sashelp.fish; run;\n",
    "    proc means data=sashelp.iris; run;\n",
    "    ```\n",
    "    \n",
    "    While it would have been fewer keystrokes to submit this directly, the Python code illustrates the general software engineering principle \"Don't Repeat Yourself\" (aka D.R.Y.).\n",
    "\n",
    "2. The same outcome could also have been achieved with the following SAS macro code:\n",
    "    ```\n",
    "    %macro loop();\n",
    "        %let dsn_list = fish iris;\n",
    "            %do i = 1 %to 2;\n",
    "                %let dsn = %scan(&dsn_list.,&i.);\n",
    "                proc means data=sashelp.&dsn.;\n",
    "            run;\n",
    "        %end;\n",
    "    %mend;\n",
    "    %loop\n",
    "    ```\n",
    "    \n",
    "  However, note the following differences:\n",
    "   * Python allows us to concisely repeat an arbitrary block of code by iterating over a list using a for-loop. In other words, the body of the for-loop (meaning everything indented underneath it, since Python uses indentation to determine scope) is repeated for each string in the list `['fish','iris'].`\n",
    "   * The SAS macro facility only provides do-loops based on numerical index variables (the macro variable `i` above), so clever tricks like implicitly defined arrays (macro variable `dsn_list` above) need to be used together with functions like `%scan` to extract a sequence of values.\n",
    "   \n",
    "&nbsp;"
   ]
  },
  {
   "cell_type": "code",
   "execution_count": null,
   "metadata": {},
   "outputs": [],
   "source": []
  }
 ],
 "metadata": {
  "kernelspec": {
   "display_name": "Python 3",
   "language": "python",
   "name": "python3"
  },
  "language_info": {
   "codemirror_mode": {
    "name": "ipython",
    "version": 3
   },
   "file_extension": ".py",
   "mimetype": "text/x-python",
   "name": "python",
   "nbconvert_exporter": "python",
   "pygments_lexer": "ipython3",
   "version": "3.5.5"
  }
 },
 "nbformat": 4,
 "nbformat_minor": 2
}
